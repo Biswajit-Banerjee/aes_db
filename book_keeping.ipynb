{
 "cells": [
  {
   "cell_type": "code",
   "execution_count": 14,
   "metadata": {},
   "outputs": [],
   "source": [
    "import os \n",
    "import shutil\n",
    "from tqdm.auto import tqdm"
   ]
  },
  {
   "cell_type": "markdown",
   "metadata": {},
   "source": [
    "## CM file storage\n",
    "format: `<Subunit><aes_number>.cm`\n",
    "description: P denotes RnasP, L denotes LSU and S denotes SSU"
   ]
  },
  {
   "cell_type": "code",
   "execution_count": 19,
   "metadata": {},
   "outputs": [],
   "source": [
    "cm_files_location = \"/home/sumon/repos/aes_db/data/all_cms\"\n",
    "os.makedirs(cm_files_location, exist_ok=True)"
   ]
  },
  {
   "cell_type": "code",
   "execution_count": 20,
   "metadata": {},
   "outputs": [
    {
     "name": "stderr",
     "output_type": "stream",
     "text": [
      "100%|██████████| 32/32 [00:00<00:00, 14576.21it/s]\n",
      "100%|██████████| 68/68 [00:00<00:00, 20882.46it/s]\n",
      "100%|██████████| 125/125 [00:00<00:00, 18792.36it/s]\n",
      "100%|██████████| 3/3 [00:00<00:00, 144.35it/s]\n"
     ]
    }
   ],
   "source": [
    "cm_version = \"cm_1p0p2\"\n",
    "\n",
    "unit_mapping = {\"16S\": \"S\", \"23S\": \"L\", \"bactRNAseP\": \"P\"}\n",
    "base_path = \"/home/sumon/repos/aes_db/cm_builder_storage/data\"\n",
    "for unit in tqdm(os.listdir(base_path)):\n",
    "    cm_dir = os.path.join(base_path, unit, cm_version)\n",
    "    for aes in tqdm(os.listdir(cm_dir)):\n",
    "        if not aes.endswith(\".cm\"):\n",
    "            continue\n",
    "        cm_name = unit_mapping[unit] + aes.replace(\"aes_\", \"\")\n",
    "        src_cm = os.path.join(cm_dir, aes)\n",
    "        \n",
    "        dst_cm = os.path.join(cm_files_location, cm_name)\n",
    "        shutil.copyfile(src_cm, dst_cm)\n",
    "    "
   ]
  },
  {
   "cell_type": "code",
   "execution_count": 13,
   "metadata": {},
   "outputs": [
    {
     "data": {
      "text/plain": [
       "'aes_10_1.cm'"
      ]
     },
     "execution_count": 13,
     "metadata": {},
     "output_type": "execute_result"
    }
   ],
   "source": [
    "aes"
   ]
  },
  {
   "cell_type": "markdown",
   "metadata": {},
   "source": [
    "## Fasta file Storage\n",
    "Format: <br>\n",
    "`> <Species>_<Subunit>_<aes_number>`<br>\n",
    "`<sequence>`<br>\n",
    "Not aligned "
   ]
  },
  {
   "cell_type": "code",
   "execution_count": 13,
   "metadata": {},
   "outputs": [],
   "source": [
    "cm_files_location = \"/home/sumon/repos/aes_db/cm_builder_storage/data/all_fasta\"\n",
    "os.makedirs(cm_files_location, exist_ok=True)"
   ]
  },
  {
   "cell_type": "code",
   "execution_count": 14,
   "metadata": {},
   "outputs": [],
   "source": [
    "def process_msa_line(line, unit, aes_number, dst=\"./all_fasta\", mapping=None):\n",
    "    \n",
    "    header, sequence = line.split(\" \")\n",
    "    # _, sp1, _, sp2 = header.split(\"_\")[:4]\n",
    "    # strain = header.split(\"_\")[-1]\n",
    "    \n",
    "    if mapping:\n",
    "        header = mapping[header].replace(\" \", \"_\").replace(\"/\", \"_\")\n",
    "        \n",
    "    header = header.split(\"|\")[0].replace(\"Bacteria_\", \"\") + \"|\" + unit + aes_number\n",
    "    # remove gaps\n",
    "    sequence = sequence.replace(\"-\", \"\")\n",
    "    content = f\"> {header}\\n{sequence}\"\n",
    "    filename = f\"{header}.fas\"\n",
    "    \n",
    "    with open(os.path.join(dst, filename), \"w\") as file:\n",
    "        file.writelines(content)\n"
   ]
  },
  {
   "cell_type": "code",
   "execution_count": 15,
   "metadata": {},
   "outputs": [],
   "source": [
    "def stockholm_to_sequence(path, unit, aes_number, dst, mapping=None):\n",
    "    with open(path, \"r\") as f:\n",
    "        for line in f.readlines(): \n",
    "            if line.startswith(\"#\") or line.startswith(\"//\") or line.startswith(\"Structure\"):\n",
    "                continue\n",
    "            process_msa_line(line.strip(), unit, aes_number, dst, mapping)\n",
    "        "
   ]
  },
  {
   "cell_type": "code",
   "execution_count": 16,
   "metadata": {},
   "outputs": [],
   "source": [
    "base_path = \"/home/sumon/repos/aes_db/cm_builder_storage/results\"\n",
    "for unit in os.listdir(base_path):\n",
    "    st_dir = os.path.join(base_path, unit, \"stockholms\")\n",
    "    \n",
    "    if unit == \"bactRNAseP\":\n",
    "        continue\n",
    "    \n",
    "    for aes in os.listdir(st_dir):\n",
    "        aes_number = aes.split(\".\")[0].split(\"_\")[-1]\n",
    "        st_path = os.path.join(st_dir, aes)\n",
    "        stockholm_to_sequence(st_path, unit_mapping[unit], aes_number, cm_files_location)"
   ]
  },
  {
   "cell_type": "code",
   "execution_count": 78,
   "metadata": {},
   "outputs": [],
   "source": [
    "# # header analysis\n",
    "# path = \"/home/sumon/repos/aes_db/cm_builder_storage/results/16S/stockholms/aes_0.stockholm\"\n",
    "\n",
    "# header_list = []\n",
    "# with open(path, \"r\") as f:\n",
    "#         for line in f.readlines(): \n",
    "#             if line.startswith(\"#\") or line.startswith(\"//\") or line.startswith(\"Structure\"):\n",
    "#                 continue\n",
    "#             header, sequence = line.split(\" \")\n",
    "#             header_list.append(header.split(\"_\")[1])\n",
    "            \n",
    "# sorted(header_list);"
   ]
  },
  {
   "cell_type": "code",
   "execution_count": 120,
   "metadata": {},
   "outputs": [],
   "source": [
    "# mapper \n",
    "file_path = \"/home/sumon/repos/aes_db/RF00010.fa\"\n",
    "mapping = {}\n",
    "\n",
    "with open(file_path, \"r\") as f:\n",
    "    for i in f.readlines():\n",
    "        if not i.startswith(\">\"):\n",
    "            continue\n",
    "        number = i.split(\" \")[0].replace(\">\", \"\")\n",
    "        rest = i.split(\",\")[0]\n",
    "        replace_list = [\"chromosome\", \">\"+number, \"assembly\", \"genome\", \"isolate\", \"genomic\", \"DNA\", \"sequence\", \"complete\"]\n",
    "        replace_list.extend(number.split(\"/\"))\n",
    "        \n",
    "        for j in replace_list:\n",
    "            rest = rest.replace(j, \"\")\n",
    "            \n",
    "        mapping[number] = rest.strip()"
   ]
  },
  {
   "cell_type": "code",
   "execution_count": null,
   "metadata": {},
   "outputs": [],
   "source": []
  },
  {
   "cell_type": "code",
   "execution_count": 113,
   "metadata": {},
   "outputs": [
    {
     "data": {
      "text/plain": [
       "'>AE008692.2/ Zymomonas mobilis subsp. mobilis ZM4'"
      ]
     },
     "execution_count": 113,
     "metadata": {},
     "output_type": "execute_result"
    }
   ],
   "source": [
    "rest.replace(j, \"\")"
   ]
  },
  {
   "cell_type": "code",
   "execution_count": 131,
   "metadata": {},
   "outputs": [],
   "source": [
    "unit = \"bactRNAseP\"\n",
    "st_dir = \"/home/sumon/repos/aes_db/cm_builder_storage/results/bactRNAseP/stockholms\"\n",
    "\n",
    "for aes in os.listdir(st_dir):\n",
    "    aes_number = aes.split(\".\")[0].split(\"_\")[-1]\n",
    "    st_path = os.path.join(st_dir, aes)\n",
    "    stockholm_to_sequence(st_path, unit_mapping[unit], aes_number, cm_files_location, mapping)"
   ]
  },
  {
   "cell_type": "code",
   "execution_count": 18,
   "metadata": {},
   "outputs": [],
   "source": [
    "# concat all cms\n",
    "cm_path = \"/home/sumon/repos/aes_db/cm_builder_storage/data/all_cms\"\n",
    "cm_dest_file = \"/home/sumon/repos/aes_db/cm_builder_storage/data/all.cm\"\n",
    "\n",
    "with open(cm_dest_file, 'w') as dst_file:\n",
    "    for cm_file in os.listdir(cm_path):\n",
    "        cm_full_path = os.path.join(cm_path, cm_file)\n",
    "        with open(cm_full_path, 'r') as src_file:\n",
    "            for line in src_file.readlines():\n",
    "                dst_file.writelines(line)\n"
   ]
  },
  {
   "cell_type": "code",
   "execution_count": 20,
   "metadata": {},
   "outputs": [],
   "source": [
    "# concat all fasta\n",
    "fasta_path = \"/home/sumon/repos/aes_db/cm_builder_storage/data/all_fasta\"\n",
    "fasta_dest_file = \"/home/sumon/repos/aes_db/cm_builder_storage/data/all.fas\"\n",
    "\n",
    "with open(fasta_dest_file, 'w') as dst_file:\n",
    "    for fasta_file in os.listdir(fasta_path):\n",
    "        fasta_full_path = os.path.join(fasta_path, fasta_file)\n",
    "        with open(fasta_full_path, 'r') as fasta_file:\n",
    "            for line in fasta_file.readlines():\n",
    "                dst_file.writelines(line)\n",
    "        \n",
    "        dst_file.writelines(\"\\n\\n\")\n"
   ]
  },
  {
   "cell_type": "markdown",
   "metadata": {},
   "source": [
    "## Augment AESes"
   ]
  },
  {
   "cell_type": "code",
   "execution_count": 2,
   "metadata": {},
   "outputs": [
    {
     "data": {
      "text/html": [
       "<div>\n",
       "<style scoped>\n",
       "    .dataframe tbody tr th:only-of-type {\n",
       "        vertical-align: middle;\n",
       "    }\n",
       "\n",
       "    .dataframe tbody tr th {\n",
       "        vertical-align: top;\n",
       "    }\n",
       "\n",
       "    .dataframe thead th {\n",
       "        text-align: right;\n",
       "    }\n",
       "</style>\n",
       "<table border=\"1\" class=\"dataframe\">\n",
       "  <thead>\n",
       "    <tr style=\"text-align: right;\">\n",
       "      <th></th>\n",
       "      <th>aes</th>\n",
       "      <th>em</th>\n",
       "      <th>range</th>\n",
       "    </tr>\n",
       "  </thead>\n",
       "  <tbody>\n",
       "    <tr>\n",
       "      <th>0</th>\n",
       "      <td>1</td>\n",
       "      <td>RP_B_TM_RNA</td>\n",
       "      <td>1-11;46-65;217-221;324-346</td>\n",
       "    </tr>\n",
       "    <tr>\n",
       "      <th>1</th>\n",
       "      <td>2</td>\n",
       "      <td>RP_B_TM_RNA</td>\n",
       "      <td>222-240;259-273;298-323</td>\n",
       "    </tr>\n",
       "    <tr>\n",
       "      <th>2</th>\n",
       "      <td>3</td>\n",
       "      <td>RP_B_TM_RNA</td>\n",
       "      <td>12-45</td>\n",
       "    </tr>\n",
       "    <tr>\n",
       "      <th>3</th>\n",
       "      <td>4</td>\n",
       "      <td>RP_B_TM_RNA</td>\n",
       "      <td>66-72;102-111;119-121;202-216</td>\n",
       "    </tr>\n",
       "    <tr>\n",
       "      <th>4</th>\n",
       "      <td>5</td>\n",
       "      <td>RP_B_TM_RNA</td>\n",
       "      <td>73-101</td>\n",
       "    </tr>\n",
       "  </tbody>\n",
       "</table>\n",
       "</div>"
      ],
      "text/plain": [
       "  aes           em                          range\n",
       "0   1  RP_B_TM_RNA     1-11;46-65;217-221;324-346\n",
       "1   2  RP_B_TM_RNA        222-240;259-273;298-323\n",
       "2   3  RP_B_TM_RNA                          12-45\n",
       "3   4  RP_B_TM_RNA  66-72;102-111;119-121;202-216\n",
       "4   5  RP_B_TM_RNA                         73-101"
      ]
     },
     "execution_count": 2,
     "metadata": {},
     "output_type": "execute_result"
    }
   ],
   "source": [
    "import pandas as pd\n",
    "data_path = \"/home/sumon/repos/aes_db/data/aes_defs/TM_RnasP_AES_Defs.csv\" \n",
    "\n",
    "df = pd.read_csv(data_path, header=None)\n",
    "df.columns = [\"aes\", \"em\", \"range\"]\n",
    "df.head()"
   ]
  },
  {
   "cell_type": "code",
   "execution_count": 1,
   "metadata": {},
   "outputs": [],
   "source": [
    "ss_cons = \"{{{{.{{.{.{.{.{.{..{{{{{{{,<<<<.<<..<.<<__........................................................................................____.....>>.>.>.>.>>>>,,,,AAA,AAAAA[[[.[...---..BBBB-.[.[[.[[................<<<<<............_____................>>>>><<<<<.......................____......>>>>->((.--...-((.(((,,,,,,,..,,,,.,<<.<<<....<<...<..<<<.........................................................................................................................____>>>.>....>..>...>>>-->>,,,,,,,....<<<...<<.<.._.._......................_____.>>>>>>..<<<<.<.<.<.<<.____..>>.>.>.>.>>>-.>.,,................)))--)).))]]]]].]]]],,,<<<<.----..............................--<<<..<.<<----....................................................-<<<<<_bbbb....>>>>>........->>>...>>.>.....----...-.....>...>.>>,,.....................,..,,,.<<<<.<.<.<<____>>>.>..>.>.>.>.,..,,,,,,,,,.}}}}}}}-.................--------------............................................-------aaaaaaaa-..}.-}}}}}}.}}}}::::\""
   ]
  },
  {
   "cell_type": "code",
   "execution_count": 12,
   "metadata": {},
   "outputs": [
    {
     "data": {
      "text/plain": [
       "[[43, 130],\n",
       " [192, 207],\n",
       " [213, 224],\n",
       " [230, 245],\n",
       " [256, 278],\n",
       " [337, 467],\n",
       " [471, 479],\n",
       " [521, 542],\n",
       " [595, 610],\n",
       " [643, 672],\n",
       " [681, 739],\n",
       " [760, 766],\n",
       " [807, 827],\n",
       " [886, 909],\n",
       " [912, 960]]"
      ]
     },
     "execution_count": 12,
     "metadata": {},
     "output_type": "execute_result"
    }
   ],
   "source": [
    "\n",
    "aes_csv_path = \"/home/sumon/repos/aes_db/data/aes_defs/TM_RnasP_AES_Defs.csv\"\n",
    "aes_df = pd.read_csv(aes_csv_path, header=None, names=[\"aes\", \"middle\", \"ranges\"])\n",
    "\n",
    "masked_ranges = aes_df[aes_df[\"aes\"] == \"mask\"][\"ranges\"].apply(lambda x: list(map(lambda y: list(map(int, y.split(\"-\"))), x.split(\";\")))).tolist()[0]\n",
    "masked_ranges\n"
   ]
  },
  {
   "cell_type": "code",
   "execution_count": 13,
   "metadata": {},
   "outputs": [],
   "source": [
    "ss_cons_list = list(ss_cons)\n",
    "for a, b in masked_ranges[::-1]:\n",
    "    del ss_cons_list[a:b+1]\n",
    "    "
   ]
  },
  {
   "cell_type": "code",
   "execution_count": 15,
   "metadata": {},
   "outputs": [
    {
     "name": "stdout",
     "output_type": "stream",
     "text": [
      "{{{{.{{.{.{.{.{.{..{{{{{{{,<<<<.<<..<.<<__.___.....>>.>.>.>.>>>>,,,,AAA,AAAAA[[[.[...---..BBBB-.[.[[.[[.<<<<.____.>>>><<<<<.___......>>>>->((.--...-((.(((,,,,,,,..,,,,.,<<.<<<....<<.__>..>...>>>-->>,,,,,,,....<<<...<<.<.._.._.____.>>>>>>..<<<<.<.<.<.<<.____..>>.>.>.>.>>>-.>.,,.))--)).))]]]]].]]]],,,<<<<.----.-<<<..<.<<<<<_bbbb....>>>>>.->>>...>>.>.....----...-.....>...>.>>,,...,,,.<<<<.<.<.<<____>>>.>..>.>.>.>.,..,,,,,,,,,.}}}}}}}-.--------aaaaaaaa-..}.-}}}}}}.}}}}::::\n"
     ]
    }
   ],
   "source": [
    "print(\"\".join(ss_cons_list))"
   ]
  },
  {
   "cell_type": "code",
   "execution_count": 1,
   "metadata": {},
   "outputs": [],
   "source": [
    "st = '''\n",
    "UACCUGGUUGAUCCUGCCAGUAGCAU(A2M)UGCUUGUCUCAAAGAUUAAGCCAUGCAUGUCUAAGUACGCACGGCCGGU\n",
    "ACAGUGAAACUGCGAAUGGCUCAUUAAAUCAGUUAUGGU(OMU)CC(PSU)U(OMU)GGUCGCUCGCUCCUCUCCCACUU\n",
    "GGAUAACUGUGGUA(A2M)UUCUAG(A2M)GCUAAUA(OMC)AUGCCGACGGGCGCUGACCCCCUUCGCGGGGGGGAUGC\n",
    "GUGCAUUUAUCAGUGGUGACUCUAGAUAACCUCGGGCCGAUCGCACGCCCCCCGUGGCGGCGACGACCCAUUCGAACGUC\n",
    "UGCCCUAUCAACUUUCGAUGGUAGUCGCCGUGCCUACCAUGGUGACCACGGGUGACGGGGAAUCAGGGUUCGAUUCCGGA\n",
    "GAGGGAGCCUGAGAAACGGCUACCACAUCCAAGGAAGGCAGCAGGCGCGC(A2M)AAUUACCCACUCCCGACCCGGGGA\n",
    "(OMG)GUAGUGA(OMC)GAAAAAUAACAAUACAGGACUCUUUCGAGGCCCUGUAAUUGGAAUGAGUCCACUUUAAAUCCU\n",
    "UUAACGAGGAUCCAUUGGAGGGCAAGUCUGG(PSU)GCCAGCAGCCGCGGUAAUUCCAGCUCCAAUA(OMG)CGUAUAUU\n",
    "AAAGUUGCUGCAGUU(A2M)AAAAGCUCGUAGUU(OMG)GAUCUUGGGAGCGGGCGUCCCCGCCCUCUCGGCCGGGGCCC\n",
    "GAAGCGUUUACUUUGAAAAAA(5MU)UAGAGUG(PSU)(PSU)CAAAGCAGGCCCGAGCCGCCUGGAUACCGCAGCUAGG\n",
    "AAUAAUGGAAUAGGACCGCGGUUCUAUUUUGUUGGUUUUCGGAACUGAGGCCAUGAUUAAGAGGGACGGCCGGGGGCAUU\n",
    "CGUAUUGCGCCGCUAGAGGUGAAAUUCUUGGACCGGCGCAAGACGGACCAGAGCGAAAGCAUUUGCCAAGAAUGUUUUCA\n",
    "UUAAUCAAGA(A2M)CGAAAGUCGGAGGUUCGAAGACGAUCAGAUACCGUCGUAGUUCCGACCA(PSU)AAACGAUGCCG\n",
    "ACCGGCGAUGCGGCGGCGUUAUUCCCAUGACCCGCCGGGCAGCUUCCGGGAAACCAAAGUCUUUGGGUUCCGGGGGGAGU\n",
    "AUGGUUGCAAAGCUGAAACUUAAAGGAAUUGACGGAAGGGCACCAC(JMH)AGGAGUGGAGCCUGCGGCUUAAU(PSU)U\n",
    "GAC(B8N)CAACACGGGAAACCUCACCCGGCCCGGACACGGACAGGAUUGACAGAUUGAUAGCUCUUUCUCGAUUCCGUG\n",
    "GGUGGUGGUGCAUGGC(4AC)GUUCUUAGUUGGUGGAGCGAUUUGUCUGGUUAAUUC(5MC)GAUAACGAACGAGACUCU\n",
    "GGCAUGCUAACUAGUUACGCGACCCCCGAGCGGUCGGCGUCCCCCAACUUCUUAGAGGGACAAGUGGCGUUCAGCCACCC\n",
    "GAGAUUGAGCAAUAACAGGUCUGUGAUGCCCUUAGAUGUCCGGGGCUGCACGCGCGCUACACUGACUGGCUCAGCGUGUG\n",
    "CCUACCCUACGCCGGCAGGCGCGGGUAACCCGUUGAACCCCAUUCGUGAUGGGGAUCGGGGAUUGCAAUUAUUCCCCAUG\n",
    "AACGAGGAAUUCCCAGUAAGUGCGGGUCAUAAGCUUGCGUUGAUU(A2M)AGUCCCUGCCCUUUGUACACACCG(OMC)C\n",
    "CGUCG(OMC)UACUACCGAUUGGAUGGUUUAGUGAGGCCCUCGGAUCGGCCCCGCCGGGGUCGGCCCACGGCCCUGGCGG\n",
    "AGCGCUGAGAAGACGGUCGAACUUG(M7A)CUAUCUAGAGGAAGUAAAAGUCG(UR3)A(6MZ)CAAGGUUUC(4AC)GU\n",
    "AGGUG(MA6)(MA6)CCUGCGGAAGGAUCAUUA\n",
    "'''.strip().replace(\"\\n\", \"\")"
   ]
  },
  {
   "cell_type": "code",
   "execution_count": 8,
   "metadata": {},
   "outputs": [],
   "source": [
    "import re\n",
    "new_st = \"\"\n",
    "for i in st.split(\"(\"):\n",
    "    new_st += re.sub(\"(.+\\))\", \"M\", i)"
   ]
  },
  {
   "cell_type": "code",
   "execution_count": 10,
   "metadata": {},
   "outputs": [
    {
     "name": "stdout",
     "output_type": "stream",
     "text": [
      "UACCUGGUUGAUCCUGCCAGUAGCAUMUGCUUGUCUCAAAGAUUAAGCCAUGCAUGUCUAAGUACGCACGGCCGGUACAGUGAAACUGCGAAUGGCUCAUUAAAUCAGUUAUGGUMCCMUMGGUCGCUCGCUCCUCUCCCACUUGGAUAACUGUGGUAMUUCUAGMGCUAAUAMAUGCCGACGGGCGCUGACCCCCUUCGCGGGGGGGAUGCGUGCAUUUAUCAGUGGUGACUCUAGAUAACCUCGGGCCGAUCGCACGCCCCCCGUGGCGGCGACGACCCAUUCGAACGUCUGCCCUAUCAACUUUCGAUGGUAGUCGCCGUGCCUACCAUGGUGACCACGGGUGACGGGGAAUCAGGGUUCGAUUCCGGAGAGGGAGCCUGAGAAACGGCUACCACAUCCAAGGAAGGCAGCAGGCGCGCMAAUUACCCACUCCCGACCCGGGGAMGUAGUGAMGAAAAAUAACAAUACAGGACUCUUUCGAGGCCCUGUAAUUGGAAUGAGUCCACUUUAAAUCCUUUAACGAGGAUCCAUUGGAGGGCAAGUCUGGMGCCAGCAGCCGCGGUAAUUCCAGCUCCAAUAMCGUAUAUUAAAGUUGCUGCAGUUMAAAAGCUCGUAGUUMGAUCUUGGGAGCGGGCGUCCCCGCCCUCUCGGCCGGGGCCCGAAGCGUUUACUUUGAAAAAAMUAGAGUGMMCAAAGCAGGCCCGAGCCGCCUGGAUACCGCAGCUAGGAAUAAUGGAAUAGGACCGCGGUUCUAUUUUGUUGGUUUUCGGAACUGAGGCCAUGAUUAAGAGGGACGGCCGGGGGCAUUCGUAUUGCGCCGCUAGAGGUGAAAUUCUUGGACCGGCGCAAGACGGACCAGAGCGAAAGCAUUUGCCAAGAAUGUUUUCAUUAAUCAAGAMCGAAAGUCGGAGGUUCGAAGACGAUCAGAUACCGUCGUAGUUCCGACCAMAAACGAUGCCGACCGGCGAUGCGGCGGCGUUAUUCCCAUGACCCGCCGGGCAGCUUCCGGGAAACCAAAGUCUUUGGGUUCCGGGGGGAGUAUGGUUGCAAAGCUGAAACUUAAAGGAAUUGACGGAAGGGCACCACMAGGAGUGGAGCCUGCGGCUUAAUMUGACMCAACACGGGAAACCUCACCCGGCCCGGACACGGACAGGAUUGACAGAUUGAUAGCUCUUUCUCGAUUCCGUGGGUGGUGGUGCAUGGCMGUUCUUAGUUGGUGGAGCGAUUUGUCUGGUUAAUUCMGAUAACGAACGAGACUCUGGCAUGCUAACUAGUUACGCGACCCCCGAGCGGUCGGCGUCCCCCAACUUCUUAGAGGGACAAGUGGCGUUCAGCCACCCGAGAUUGAGCAAUAACAGGUCUGUGAUGCCCUUAGAUGUCCGGGGCUGCACGCGCGCUACACUGACUGGCUCAGCGUGUGCCUACCCUACGCCGGCAGGCGCGGGUAACCCGUUGAACCCCAUUCGUGAUGGGGAUCGGGGAUUGCAAUUAUUCCCCAUGAACGAGGAAUUCCCAGUAAGUGCGGGUCAUAAGCUUGCGUUGAUUMAGUCCCUGCCCUUUGUACACACCGMCCGUCGMUACUACCGAUUGGAUGGUUUAGUGAGGCCCUCGGAUCGGCCCCGCCGGGGUCGGCCCACGGCCCUGGCGGAGCGCUGAGAAGACGGUCGAACUUGMCUAUCUAGAGGAAGUAAAAGUCGMAMCAAGGUUUCMGUAGGUGMMCCUGCGGAAGGAUCAUUA\n"
     ]
    }
   ],
   "source": [
    "print(new_st)"
   ]
  },
  {
   "cell_type": "code",
   "execution_count": 11,
   "metadata": {},
   "outputs": [
    {
     "data": {
      "text/plain": [
       "1740"
      ]
     },
     "execution_count": 11,
     "metadata": {},
     "output_type": "execute_result"
    }
   ],
   "source": [
    "len(new_st)"
   ]
  },
  {
   "cell_type": "code",
   "execution_count": 12,
   "metadata": {},
   "outputs": [
    {
     "data": {
      "text/plain": [
       "1740"
      ]
     },
     "execution_count": 12,
     "metadata": {},
     "output_type": "execute_result"
    }
   ],
   "source": [
    "len('UACCUGGUUGAUCCUGCCAGUAGCAUAUGCUUGUCUCAAAGAUUAAGCCAUGCAUGUCUAAGUACGCACGGCCGGUACAGUGAAACUGCGAAUGGCUCAUUAAAUCAGUUAUGGUUCCUUUGGUCGCUCGCUCCUCUCCCACUUGGAUAACUGUGGUAAUUCUAGAGCUAAUACAUGCCGACGGGCGCUGACCCCCUUCGCGGGGGGGAUGCGUGCAUUUAUCAGUGGUGACUCUAGAUAACCUCGGGCCGAUCGCACGCCCCCCGUGGCGGCGACGACCCAUUCGAACGUCUGCCCUAUCAACUUUCGAUGGUAGUCGCCGUGCCUACCAUGGUGACCACGGGUGACGGGGAAUCAGGGUUCGAUUCCGGAGAGGGAGCCUGAGAAACGGCUACCACAUCCAAGGAAGGCAGCAGGCGCGCAAAUUACCCACUCCCGACCCGGGGAGGUAGUGACGAAAAAUAACAAUACAGGACUCUUUCGAGGCCCUGUAAUUGGAAUGAGUCCACUUUAAAUCCUUUAACGAGGAUCCAUUGGAGGGCAAGUCUGGUGCCAGCAGCCGCGGUAAUUCCAGCUCCAAUAGCGUAUAUUAAAGUUGCUGCAGUUAAAAAGCUCGUAGUUGGAUCUUGGGAGCGGGCGUCCCCGCCCUCUCGGCCGGGGCCCGAAGCGUUUACUUUGAAAAAAUUAGAGUGUUCAAAGCAGGCCCGAGCCGCCUGGAUACCGCAGCUAGGAAUAAUGGAAUAGGACCGCGGUUCUAUUUUGUUGGUUUUCGGAACUGAGGCCAUGAUUAAGAGGGACGGCCGGGGGCAUUCGUAUUGCGCCGCUAGAGGUGAAAUUCUUGGACCGGCGCAAGACGGACCAGAGCGAAAGCAUUUGCCAAGAAUGUUUUCAUUAAUCAAGAACGAAAGUCGGAGGUUCGAAGACGAUCAGAUACCGUCGUAGUUCCGACCAUAAACGAUGCCGACCGGCGAUGCGGCGGCGUUAUUCCCAUGACCCGCCGGGCAGCUUCCGGGAAACCAAAGUCUUUGGGUUCCGGGGGGAGUAUGGUUGCAAAGCUGAAACUUAAAGGAAUUGACGGAAGGGCACCACCAGGAGUGGAGCCUGCGGCUUAAUUUGACXCAACACGGGAAACCUCACCCGGCCCGGACACGGACAGGAUUGACAGAUUGAUAGCUCUUUCUCGAUUCCGUGGGUGGUGGUGCAUGGCNGUUCUUAGUUGGUGGAGCGAUUUGUCUGGUUAAUUCCGAUAACGAACGAGACUCUGGCAUGCUAACUAGUUACGCGACCCCCGAGCGGUCGGCGUCCCCCAACUUCUUAGAGGGACAAGUGGCGUUCAGCCACCCGAGAUUGAGCAAUAACAGGUCUGUGAUGCCCUUAGAUGUCCGGGGCUGCACGCGCGCUACACUGACUGGCUCAGCGUGUGCCUACCCUACGCCGGCAGGCGCGGGUAACCCGUUGAACCCCAUUCGUGAUGGGGAUCGGGGAUUGCAAUUAUUCCCCAUGAACGAGGAAUUCCCAGUAAGUGCGGGUCAUAAGCUUGCGUUGAUUAAGUCCCUGCCCUUUGUACACACCGCCCGUCGCUACUACCGAUUGGAUGGUUUAGUGAGGCCCUCGGAUCGGCCCCGCCGGGGUCGGCCCACGGCCCUGGCGGAGCGCUGAGAAGACGGUCGAACUUGACUAUCUAGAGGAAGUAAAAGUCGUAACAAGGUUUCNGUAGGUGAACCUGCGGAAGGAUCAUUA')"
   ]
  },
  {
   "cell_type": "code",
   "execution_count": null,
   "metadata": {},
   "outputs": [],
   "source": []
  }
 ],
 "metadata": {
  "kernelspec": {
   "display_name": ".venv",
   "language": "python",
   "name": "python3"
  },
  "language_info": {
   "codemirror_mode": {
    "name": "ipython",
    "version": 3
   },
   "file_extension": ".py",
   "mimetype": "text/x-python",
   "name": "python",
   "nbconvert_exporter": "python",
   "pygments_lexer": "ipython3",
   "version": "3.10.12"
  }
 },
 "nbformat": 4,
 "nbformat_minor": 2
}
