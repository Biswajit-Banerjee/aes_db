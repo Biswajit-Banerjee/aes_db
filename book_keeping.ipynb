{
 "cells": [
  {
   "cell_type": "code",
   "execution_count": 4,
   "metadata": {},
   "outputs": [],
   "source": [
    "import os \n",
    "import shutil"
   ]
  },
  {
   "cell_type": "markdown",
   "metadata": {},
   "source": [
    "## CM file storage\n",
    "format: `<Subunit><aes_number>.cm`\n",
    "description: P denotes RnasP, L denotes LSU and S denotes SSU"
   ]
  },
  {
   "cell_type": "code",
   "execution_count": 5,
   "metadata": {},
   "outputs": [],
   "source": [
    "cm_files_location = \"/home/sumon/repos/aes_db/data/all_cms\"\n",
    "os.makedirs(cm_files_location, exist_ok=True)"
   ]
  },
  {
   "cell_type": "code",
   "execution_count": 6,
   "metadata": {},
   "outputs": [],
   "source": [
    "unit_mapping = {\"16S\": \"S\", \"23S\": \"L\", \"bactRNAseP\": \"P\"}\n",
    "base_path = \"/home/sumon/repos/aes_db/cm_builder_storage/results\"\n",
    "for unit in os.listdir(base_path):\n",
    "    cm_dir = os.path.join(base_path, unit, \"covariance_models\")\n",
    "    for aes in os.listdir(cm_dir):\n",
    "        if not aes.endswith(\".cm\"):\n",
    "            continue\n",
    "        cm_name = unit_mapping[unit] + aes.split(\"_\")[-1]\n",
    "        src_cm = os.path.join(cm_dir, aes)\n",
    "        \n",
    "        dst_cm = os.path.join(cm_files_location, cm_name)\n",
    "        shutil.copyfile(src_cm, dst_cm)\n",
    "    "
   ]
  },
  {
   "cell_type": "markdown",
   "metadata": {},
   "source": [
    "## Fasta file Storage\n",
    "Format: <br>\n",
    "`> <Species>_<Subunit>_<aes_number>`<br>\n",
    "`<sequence>`<br>\n",
    "Not aligned "
   ]
  },
  {
   "cell_type": "code",
   "execution_count": 91,
   "metadata": {},
   "outputs": [],
   "source": [
    "cm_files_location = \"/home/sumon/repos/aes_db/data/all_fasta\"\n",
    "os.makedirs(cm_files_location, exist_ok=True)"
   ]
  },
  {
   "cell_type": "code",
   "execution_count": 129,
   "metadata": {},
   "outputs": [],
   "source": [
    "def process_msa_line(line, unit, aes_number, dst=\"./all_fasta\", mapping=None):\n",
    "    \n",
    "    header, sequence = line.split(\" \")\n",
    "    # _, sp1, _, sp2 = header.split(\"_\")[:4]\n",
    "    # strain = header.split(\"_\")[-1]\n",
    "    \n",
    "    if mapping:\n",
    "        header = mapping[header].replace(\" \", \"_\").replace(\"/\", \"_\")\n",
    "        \n",
    "    header = header.split(\"|\")[0].replace(\"Bacteria_\", \"\") + \"|\" + unit + aes_number\n",
    "    \n",
    "    content = f\"> {header}\\n{sequence}\"\n",
    "    filename = f\"{header}.fas\"\n",
    "    \n",
    "    with open(os.path.join(dst, filename), \"w\") as file:\n",
    "        file.writelines(content)\n"
   ]
  },
  {
   "cell_type": "code",
   "execution_count": 130,
   "metadata": {},
   "outputs": [],
   "source": [
    "def stockholm_to_sequence(path, unit, aes_number, dst, mapping=None):\n",
    "    with open(path, \"r\") as f:\n",
    "        for line in f.readlines(): \n",
    "            if line.startswith(\"#\") or line.startswith(\"//\") or line.startswith(\"Structure\"):\n",
    "                continue\n",
    "            process_msa_line(line.strip(), unit, aes_number, dst, mapping)\n",
    "        "
   ]
  },
  {
   "cell_type": "code",
   "execution_count": 94,
   "metadata": {},
   "outputs": [],
   "source": [
    "base_path = \"/home/sumon/repos/aes_db/cm_builder_storage/results\"\n",
    "for unit in os.listdir(base_path):\n",
    "    st_dir = os.path.join(base_path, unit, \"stockholms\")\n",
    "    \n",
    "    if unit == \"bactRNAseP\":\n",
    "        continue\n",
    "    \n",
    "    for aes in os.listdir(st_dir):\n",
    "        aes_number = aes.split(\".\")[0].split(\"_\")[-1]\n",
    "        st_path = os.path.join(st_dir, aes)\n",
    "        stockholm_to_sequence(st_path, unit_mapping[unit], aes_number, cm_files_location)"
   ]
  },
  {
   "cell_type": "code",
   "execution_count": 78,
   "metadata": {},
   "outputs": [],
   "source": [
    "# header analysis\n",
    "path = \"/home/sumon/repos/aes_db/cm_builder_storage/results/16S/stockholms/aes_0.stockholm\"\n",
    "\n",
    "header_list = []\n",
    "with open(path, \"r\") as f:\n",
    "        for line in f.readlines(): \n",
    "            if line.startswith(\"#\") or line.startswith(\"//\") or line.startswith(\"Structure\"):\n",
    "                continue\n",
    "            header, sequence = line.split(\" \")\n",
    "            header_list.append(header.split(\"_\")[1])\n",
    "            \n",
    "sorted(header_list);"
   ]
  },
  {
   "cell_type": "code",
   "execution_count": 120,
   "metadata": {},
   "outputs": [],
   "source": [
    "# mapper \n",
    "file_path = \"/home/sumon/repos/aes_db/RF00010.fa\"\n",
    "mapping = {}\n",
    "\n",
    "with open(file_path, \"r\") as f:\n",
    "    for i in f.readlines():\n",
    "        if not i.startswith(\">\"):\n",
    "            continue\n",
    "        number = i.split(\" \")[0].replace(\">\", \"\")\n",
    "        rest = i.split(\",\")[0]\n",
    "        replace_list = [\"chromosome\", \">\"+number, \"assembly\", \"genome\", \"isolate\", \"genomic\", \"DNA\", \"sequence\", \"complete\"]\n",
    "        replace_list.extend(number.split(\"/\"))\n",
    "        \n",
    "        for j in replace_list:\n",
    "            rest = rest.replace(j, \"\")\n",
    "            \n",
    "        mapping[number] = rest.strip()"
   ]
  },
  {
   "cell_type": "code",
   "execution_count": null,
   "metadata": {},
   "outputs": [],
   "source": []
  },
  {
   "cell_type": "code",
   "execution_count": 113,
   "metadata": {},
   "outputs": [
    {
     "data": {
      "text/plain": [
       "'>AE008692.2/ Zymomonas mobilis subsp. mobilis ZM4'"
      ]
     },
     "execution_count": 113,
     "metadata": {},
     "output_type": "execute_result"
    }
   ],
   "source": [
    "rest.replace(j, \"\")"
   ]
  },
  {
   "cell_type": "code",
   "execution_count": 131,
   "metadata": {},
   "outputs": [],
   "source": [
    "unit = \"bactRNAseP\"\n",
    "st_dir = \"/home/sumon/repos/aes_db/cm_builder_storage/results/bactRNAseP/stockholms\"\n",
    "\n",
    "for aes in os.listdir(st_dir):\n",
    "    aes_number = aes.split(\".\")[0].split(\"_\")[-1]\n",
    "    st_path = os.path.join(st_dir, aes)\n",
    "    stockholm_to_sequence(st_path, unit_mapping[unit], aes_number, cm_files_location, mapping)"
   ]
  },
  {
   "cell_type": "code",
   "execution_count": null,
   "metadata": {},
   "outputs": [],
   "source": []
  }
 ],
 "metadata": {
  "kernelspec": {
   "display_name": ".venv",
   "language": "python",
   "name": "python3"
  },
  "language_info": {
   "codemirror_mode": {
    "name": "ipython",
    "version": 3
   },
   "file_extension": ".py",
   "mimetype": "text/x-python",
   "name": "python",
   "nbconvert_exporter": "python",
   "pygments_lexer": "ipython3",
   "version": "3.10.12"
  }
 },
 "nbformat": 4,
 "nbformat_minor": 2
}
