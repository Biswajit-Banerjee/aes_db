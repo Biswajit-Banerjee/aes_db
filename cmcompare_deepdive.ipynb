{
 "cells": [
  {
   "cell_type": "code",
   "execution_count": 29,
   "metadata": {},
   "outputs": [],
   "source": [
    "from Bio import AlignIO\n",
    "import os\n",
    "import subprocess\n",
    "from Bio import AlignIO\n",
    "from Bio.Align import MultipleSeqAlignment\n",
    "from Bio.SeqRecord import SeqRecord\n",
    "from Bio.Seq import Seq"
   ]
  },
  {
   "cell_type": "code",
   "execution_count": 30,
   "metadata": {},
   "outputs": [],
   "source": [
    "# Modify these for the comparision you would want to see\n",
    "# for the first part please select 16S, 23S or bactRNAseP\n",
    "# Caution they should exactly match as above otherwise it wouldn't work\n",
    "aes1 = [\"bactRNAseP\", \"63_0\"]\n",
    "aes2 = [\"16S\",  \"19_0\"]"
   ]
  },
  {
   "cell_type": "markdown",
   "metadata": {},
   "source": [
    "## Execute below to run cmcompare"
   ]
  },
  {
   "cell_type": "code",
   "execution_count": 36,
   "metadata": {},
   "outputs": [],
   "source": [
    "def combine_alignments(align1, align2, map1, map2, suffix1=\"align1\", suffix2=\"align2\"):\n",
    "    \"\"\"\n",
    "    Combine two alignments using provided mapping indices.\n",
    "    \n",
    "    Parameters:\n",
    "    align1, align2: MultipleSeqAlignment objects\n",
    "    map1, map2: Lists of indices for mapping positions between alignments\n",
    "    \n",
    "    Returns:\n",
    "    MultipleSeqAlignment object containing the combined alignment\n",
    "    \"\"\"\n",
    "    # Create a mapping dictionary\n",
    "    position_map = {m1: m2 for m1, m2 in zip(map1, map2)}\n",
    "    \n",
    "    # Find the maximum position in both mappings\n",
    "    max_pos = max(len(map1), len(map2))\n",
    "    \n",
    "    # Initialize combined sequences for each record in align1\n",
    "    combined_records = []\n",
    "    \n",
    "    for record in align1:\n",
    "        # Create a new sequence with gaps\n",
    "        new_seq = ['-'] * max_pos\n",
    "        \n",
    "        # Fill in positions from align1\n",
    "        for i, pos in enumerate(map1):\n",
    "            if pos < len(record.seq):\n",
    "                new_seq[i] = record.seq[pos-1]\n",
    "                \n",
    "                \n",
    "        # Create new SeqRecord\n",
    "        new_record = SeqRecord(\n",
    "            Seq(''.join(new_seq)),\n",
    "            id=record.id + \"|\" + suffix1,\n",
    "            name=record.name,\n",
    "            description=f\"Combined alignment from {suffix1}\"\n",
    "        )\n",
    "        combined_records.append(new_record)\n",
    "    \n",
    "    # Add sequences from align2\n",
    "    for record in align2:\n",
    "        new_seq = ['-'] * max_pos\n",
    "        \n",
    "        # Fill in positions from align2\n",
    "        for i, pos in enumerate(map2):\n",
    "            if pos < len(record.seq):\n",
    "                new_seq[i] = record.seq[pos-1]\n",
    "                \n",
    "        # Create new SeqRecord\n",
    "        new_record = SeqRecord(\n",
    "            Seq(''.join(new_seq)),\n",
    "            id=record.id + \"|\" + suffix2,\n",
    "            name=record.name,\n",
    "            description=f\"Combined alignment from {suffix2}\"\n",
    "        )\n",
    "        combined_records.append(new_record)\n",
    "    \n",
    "    # Create new MultipleSeqAlignment\n",
    "    combined_alignment = MultipleSeqAlignment(combined_records)\n",
    "    \n",
    "    return combined_alignment"
   ]
  },
  {
   "cell_type": "code",
   "execution_count": 37,
   "metadata": {},
   "outputs": [],
   "source": [
    "cm_dir = \"/home/sumon/workspace/git_repos/aes_db/data/all_cms_noSS_1p\"\n",
    "\n",
    "def compare_models(args):\n",
    "    name1, name2 = args\n",
    "    cm1 = os.path.join(cm_dir, name1)\n",
    "    cm2 = os.path.join(cm_dir, name2)\n",
    "    result = subprocess.run([\"./executables/cmcompare\", cm1, cm2], \n",
    "                            capture_output=True, text=True)\n",
    "    std_out = result.stdout\n",
    "    return std_out\n"
   ]
  },
  {
   "cell_type": "code",
   "execution_count": 38,
   "metadata": {},
   "outputs": [],
   "source": [
    "unit_mapping = {\"16S\": \"S\", \"23S\": \"L\", \"bactRNAseP\": \"P\"}\n",
    "\n",
    "cm1 = f\"{unit_mapping[aes1[0]]}{aes1[1]}.cm\"\n",
    "cm2 = f\"{unit_mapping[aes2[0]]}{aes2[1]}.cm\"\n",
    "\n",
    "op = compare_models((cm1, cm2))\n",
    "op_list = list(filter(None, op.split(\" \")))\n",
    "\n",
    "# create the alignment based on cmcompare result\n",
    "exec(\"st_idx1 = \" + op_list[-2])\n",
    "exec(\"st_idx2 = \" + op_list[-1])\n",
    "\n",
    "st1 = f\"/home/sumon/workspace/git_repos/aes_db/cm_builder_storage/data/{aes1[0]}/stockholms/aes_{aes1[1]}.stockholm\"\n",
    "st2 = f\"/home/sumon/workspace/git_repos/aes_db/cm_builder_storage/data/{aes2[0]}/stockholms/aes_{aes2[1]}.stockholm\"\n",
    "align1 = AlignIO.read(st1, \"stockholm\")\n",
    "align2 = AlignIO.read(st2, \"stockholm\")\n",
    "\n",
    "suffix1 = cm1.replace(\".cm\", \"\")\n",
    "suffix2 = cm2.replace(\".cm\", \"\")\n",
    "combined_msa = combine_alignments(align1, align2, st_idx1, st_idx2, suffix1=suffix1, suffix2=suffix2)\n",
    "\n",
    "\n",
    "with open(f\"tmp/{suffix1}__{suffix2}.fasta\", \"w\") as output_handle:\n",
    "    AlignIO.write(combined_msa, output_handle, \"fasta\")\n",
    "    \n",
    "\n",
    "with open(f\"tmp/{suffix1}__{suffix2}.cmcompare.out\", \"w\") as output_handle:\n",
    "    output_handle.writelines(\"\\n\".join(op_list))"
   ]
  },
  {
   "cell_type": "markdown",
   "metadata": {},
   "source": [
    "## Execute below to see results"
   ]
  },
  {
   "cell_type": "code",
   "execution_count": 39,
   "metadata": {},
   "outputs": [
    {
     "name": "stdout",
     "output_type": "stream",
     "text": [
      "--------------------------------------------------: cmcompare output :--------------------------------------------------\n",
      "\n",
      "/home/sumon/workspace/git_repos/aes_db/data/all_cms_noSS_1p/P63_0.cm\n",
      "/home/sumon/workspace/git_repos/aes_db/data/all_cms_noSS_1p/S19_0.cm\n",
      "20.856\n",
      "14.428\n",
      "GGUGGGGUAAGGGCCUACCAAUUUUUUUUUUGACGGGGGCGGCUA\n",
      "...................,.......................,.\n",
      ".....................,,,,,,,,,,,,,,,,,,,.....\n",
      "[1,2,3,4,5,6,7,8,9,10,11,12,13,14,15,16,17,18,19,19,20,21,22,23,24,25,26,27,28,29,30,31,32,33,34,35,36,37,38,39,40,41,42,42,43,44]\n",
      "[10,11,12,13,14,15,16,17,18,19,20,21,22,23,24,25,26,27,28,29,30,30,30,30,30,30,30,30,30,30,30,30,30,30,30,30,30,30,30,30,31,32,33,34,35,36]\n",
      "\n",
      "\n",
      "------------------------------------------------------------------------------------------------------------------------\n",
      "File written: tmp/P63_0__S19_0.fasta\n"
     ]
    }
   ],
   "source": [
    "print(f\"{': cmcompare output :':-^120}\")\n",
    "print()\n",
    "print(\"\\n\".join(op_list))\n",
    "print()\n",
    "print(120*\"-\")\n",
    "\n",
    "print(f\"File written: tmp/{suffix1}__{suffix2}.fasta\")"
   ]
  },
  {
   "cell_type": "markdown",
   "metadata": {},
   "source": [
    "## Extra stuffs ignore"
   ]
  },
  {
   "cell_type": "code",
   "execution_count": 8,
   "metadata": {},
   "outputs": [],
   "source": [
    "aes1 = [\"16S\",  \"19_0\"]\n",
    "aes2 = [\"bactRNAseP\", \"63_0\"]"
   ]
  },
  {
   "cell_type": "code",
   "execution_count": 9,
   "metadata": {},
   "outputs": [],
   "source": [
    "st1 = f\"/home/sumon/workspace/git_repos/aes_db/cm_builder_storage/data/{aes1[0]}/stockholms/aes_{aes1[1]}.stockholm\"\n",
    "st2 = f\"/home/sumon/workspace/git_repos/aes_db/cm_builder_storage/data/{aes2[0]}/stockholms/aes_{aes2[1]}.stockholm\"\n",
    "align1 = AlignIO.read(st1, \"stockholm\")\n",
    "align2 = AlignIO.read(st2, \"stockholm\")\n",
    "\n",
    "\n",
    "with open(f\"tmp/{suffix1}.fasta\", \"w\") as output_handle:\n",
    "    AlignIO.write(align1, output_handle, \"fasta\")\n",
    "    \n",
    "with open(f\"tmp/{suffix2}.fasta\", \"w\") as output_handle:\n",
    "    AlignIO.write(align2, output_handle, \"fasta\")\n"
   ]
  },
  {
   "cell_type": "code",
   "execution_count": null,
   "metadata": {},
   "outputs": [],
   "source": []
  }
 ],
 "metadata": {
  "kernelspec": {
   "display_name": "Python 3",
   "language": "python",
   "name": "python3"
  },
  "language_info": {
   "codemirror_mode": {
    "name": "ipython",
    "version": 3
   },
   "file_extension": ".py",
   "mimetype": "text/x-python",
   "name": "python",
   "nbconvert_exporter": "python",
   "pygments_lexer": "ipython3",
   "version": "3.10.15"
  }
 },
 "nbformat": 4,
 "nbformat_minor": 2
}
